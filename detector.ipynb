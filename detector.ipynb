{
 "cells": [
  {
   "cell_type": "code",
   "execution_count": 445,
   "metadata": {},
   "outputs": [],
   "source": [
    "import pandas as pd\n",
    "import numpy as np\n",
    "import random\n",
    "import re\n",
    "import en_core_web_sm\n",
    "import time\n",
    "import matplotlib.pyplot as plt"
   ]
  },
  {
   "cell_type": "code",
   "execution_count": 373,
   "metadata": {},
   "outputs": [],
   "source": [
    "def detect_gender(s):\n",
    "    return True if s.lower() in {'female', 'male', 'transsexual', \n",
    "                                 'trans', 'genderfluid', 'agender',\n",
    "                                 'bigender', 'polygender', 'androgyne',\n",
    "                                 'intergender', 'demigender', 'afab', 'amab'} else False"
   ]
  },
  {
   "cell_type": "code",
   "execution_count": 374,
   "metadata": {},
   "outputs": [],
   "source": [
    "def detect_race(s):\n",
    "    return True if s.lower() in {'american', 'indian', 'asian', \n",
    "                                 'black', 'african', 'white', \n",
    "                                 'native hawaiian', 'hawaiian native',\n",
    "                                 'alaskan native', 'native alaskan', \n",
    "                                 'american indian', 'indian american',\n",
    "                                 'african american', 'pacific islander'} else False"
   ]
  },
  {
   "cell_type": "code",
   "execution_count": 375,
   "metadata": {},
   "outputs": [],
   "source": [
    "def detect_marital(s):\n",
    "    return True if s.lower() in {'married', 'widowed', 'divorced', \n",
    "                                 'separated', 'single'} else False"
   ]
  },
  {
   "cell_type": "code",
   "execution_count": 376,
   "metadata": {},
   "outputs": [],
   "source": [
    "def detect_address(s):\n",
    "    if 'street' in s:\n",
    "        return True\n",
    "    nlp = en_core_web_sm.load()\n",
    "    doc = nlp(' ' + s.capitalize())\n",
    "    if len(doc.ents) and doc.ents[0].label_=='GPE':\n",
    "        return True\n",
    "    else:\n",
    "        return False\n",
    "    #for ent in doc.ents: print('Text: ', ent.text, ';\\tLabel: ', ent.label_)"
   ]
  },
  {
   "cell_type": "code",
   "execution_count": 378,
   "metadata": {},
   "outputs": [],
   "source": [
    "def detect_ssn(s):\n",
    "    return True if re.search('^[0-9]{3}-[0-9]{2}-[0-9]{4}$', s) else False"
   ]
  },
  {
   "cell_type": "code",
   "execution_count": 379,
   "metadata": {},
   "outputs": [],
   "source": [
    "def detect_ip(s):\n",
    "    return True if re.search('^[0-9]{1,3}\\.[0-9]{1,3}\\.[0-9]{1,3}\\.[0-9]{1,3}$', s) else False"
   ]
  },
  {
   "cell_type": "code",
   "execution_count": 380,
   "metadata": {},
   "outputs": [],
   "source": [
    "def detect_age(s):\n",
    "    return True if (s.isdigit() and int(s) < 130) else False"
   ]
  },
  {
   "cell_type": "markdown",
   "metadata": {},
   "source": [
    "# Logic"
   ]
  },
  {
   "cell_type": "code",
   "execution_count": 381,
   "metadata": {},
   "outputs": [],
   "source": [
    "def classify(s):\n",
    "    if s[0].isdigit():\n",
    "        for func, output in zip([detect_ssn, detect_ip, detect_age], ['SSN', 'IP', 'AGE']):\n",
    "            if func(s):\n",
    "                return output\n",
    "    else:\n",
    "        for func, output in zip([detect_gender, detect_race, detect_marital, detect_address], \n",
    "                                ['GENDER', 'RACE', 'MARITAL', 'ADDRESS']):\n",
    "            if func(s):\n",
    "                return output\n",
    "    return 'NOT DETECTED'"
   ]
  },
  {
   "cell_type": "code",
   "execution_count": 365,
   "metadata": {},
   "outputs": [],
   "source": [
    "def analyze_column(values, initial_samples=5, max_samples=10):\n",
    "    range_inds = set(range(0, len(values)))\n",
    "    samples_inds = random.sample(range_inds, initial_samples)\n",
    "    for ind in samples_inds:\n",
    "        range_inds.remove(ind)\n",
    "    \n",
    "    predictions = {}\n",
    "    for key in ['SSN', 'IP', 'AGE', 'GENDER', 'RACE', 'MARITAL', 'ADDRESS', 'NOT DETECTED']:\n",
    "        predictions[key] = 0\n",
    "        \n",
    "    unique_items = set()\n",
    "    \n",
    "    for ind in samples_inds:\n",
    "        item = str(values[ind])\n",
    "        unique_items.add(item)\n",
    "        predictions[classify(item)] += 1\n",
    "        \n",
    "    total_iterations = initial_samples\n",
    "    while len(unique_items) < initial_samples and total_iterations < max_samples:\n",
    "        total_iterations += 1\n",
    "        ind = random.sample(range_inds, 1)[0]\n",
    "        range_inds.remove(ind)\n",
    "        \n",
    "        item = str(values[ind])\n",
    "        unique_items.add(item)\n",
    "        predictions[classify(item)] += 1\n",
    "\n",
    "    return predictions, total_iterations"
   ]
  },
  {
   "cell_type": "code",
   "execution_count": 419,
   "metadata": {},
   "outputs": [],
   "source": [
    "def dumb_analyze_column(values):\n",
    "    predictions = {}\n",
    "    for key in ['SSN', 'IP', 'AGE', 'GENDER', 'RACE', 'MARITAL', 'ADDRESS', 'NOT DETECTED']:\n",
    "        predictions[key] = 0\n",
    "    for item in values:\n",
    "        predictions[classify(str(item))] += 1\n",
    "    return predictions, values.shape[0]"
   ]
  },
  {
   "cell_type": "code",
   "execution_count": 330,
   "metadata": {},
   "outputs": [
    {
     "data": {
      "text/plain": [
       "({'SSN': 0,\n",
       "  'IP': 0,\n",
       "  'AGE': 5,\n",
       "  'GENDER': 0,\n",
       "  'RACE': 0,\n",
       "  'MARITAL': 0,\n",
       "  'ADDRESS': 0,\n",
       "  'NOT DETECTED': 0},\n",
       " 5)"
      ]
     },
     "execution_count": 330,
     "metadata": {},
     "output_type": "execute_result"
    }
   ],
   "source": [
    "analyze_column(df.col1.values)"
   ]
  },
  {
   "cell_type": "code",
   "execution_count": 350,
   "metadata": {},
   "outputs": [
    {
     "name": "stdout",
     "output_type": "stream",
     "text": [
      "{'married', 'single'}\n"
     ]
    },
    {
     "data": {
      "text/plain": [
       "({'SSN': 0,\n",
       "  'IP': 0,\n",
       "  'AGE': 0,\n",
       "  'GENDER': 0,\n",
       "  'RACE': 0,\n",
       "  'MARITAL': 10,\n",
       "  'ADDRESS': 0,\n",
       "  'NOT DETECTED': 0},\n",
       " 10)"
      ]
     },
     "execution_count": 350,
     "metadata": {},
     "output_type": "execute_result"
    }
   ],
   "source": [
    "analyze_column(df['Marital Status'].values)"
   ]
  },
  {
   "cell_type": "code",
   "execution_count": 364,
   "metadata": {},
   "outputs": [
    {
     "name": "stdout",
     "output_type": "stream",
     "text": [
      "{'119', '116', '72', '98', 'QWERTY'}\n"
     ]
    },
    {
     "data": {
      "text/plain": [
       "({'SSN': 0,\n",
       "  'IP': 0,\n",
       "  'AGE': 4,\n",
       "  'GENDER': 0,\n",
       "  'RACE': 0,\n",
       "  'MARITAL': 0,\n",
       "  'ADDRESS': 0,\n",
       "  'NOT DETECTED': 5},\n",
       " 9)"
      ]
     },
     "execution_count": 364,
     "metadata": {},
     "output_type": "execute_result"
    }
   ],
   "source": [
    "analyze_column(df['col_noise'].values)"
   ]
  },
  {
   "cell_type": "code",
   "execution_count": 459,
   "metadata": {},
   "outputs": [],
   "source": [
    "def process_table(df, useDumb):\n",
    "    iterations_list = []\n",
    "    for col in df.columns:\n",
    "        print('Currently processing column: ', col)\n",
    "        if useDumb:\n",
    "            predictions, total_iterations = dumb_analyze_column(df[col].values)\n",
    "        else:\n",
    "            predictions, total_iterations = analyze_column(df[col].values)\n",
    "        iterations_list.append(total_iterations)\n",
    "    return predictions, iterations_list"
   ]
  },
  {
   "cell_type": "code",
   "execution_count": 463,
   "metadata": {},
   "outputs": [],
   "source": [
    "def perform_everything(data_location, number_of_observations=50):\n",
    "    df = pd.read_csv(data_location);\n",
    "    \n",
    "    print('\\nNOT DUMB SECTION\\n')\n",
    "    start = time.time()\n",
    "    predictions_not_dumb, iters_not_dumb = process_table(df, useDumb=False)\n",
    "    end = time.time()\n",
    "    time_not_dumb = end - start\n",
    "    \n",
    "    print('\\nDUMB SECTION\\n')\n",
    "    start = time.time()\n",
    "    predictions_dumb, iters_dumb = process_table(df[:number_of_observations], useDumb=True)\n",
    "    end = time.time()\n",
    "    time_dumb = end - start\n",
    "    \n",
    "    print('\\nSUMMARY SECTION\\n')\n",
    "    print('Approx. time for not dumb method: ', time_not_dumb)\n",
    "    print('Approx. time for dumb method: ', len(df) / number_of_observations * time_dumb)\n",
    "    print('Time ratio: ', len(df) / number_of_observations * time_dumb / time_not_dumb)\n",
    "    \n",
    "    plt.hist(iters_not_dumb);\n",
    "    plt.xlabel('Number of samples taken')\n",
    "    plt.ylabel('Count');\n",
    "    plt.show()"
   ]
  },
  {
   "cell_type": "markdown",
   "metadata": {},
   "source": [
    "# Santander data (test_ver2.csv)"
   ]
  },
  {
   "cell_type": "code",
   "execution_count": 461,
   "metadata": {},
   "outputs": [
    {
     "name": "stdout",
     "output_type": "stream",
     "text": [
      "\n",
      "NOT DUMB SECTION\n",
      "\n",
      "Currently processing column:  fecha_dato\n",
      "Currently processing column:  ncodpers\n",
      "Currently processing column:  ind_empleado\n",
      "Currently processing column:  pais_residencia\n",
      "Currently processing column:  sexo\n",
      "Currently processing column:  age\n",
      "Currently processing column:  fecha_alta\n",
      "Currently processing column:  ind_nuevo\n",
      "Currently processing column:  antiguedad\n",
      "Currently processing column:  indrel\n",
      "Currently processing column:  ult_fec_cli_1t\n",
      "Currently processing column:  indrel_1mes\n",
      "Currently processing column:  tiprel_1mes\n",
      "Currently processing column:  indresi\n",
      "Currently processing column:  indext\n",
      "Currently processing column:  conyuemp\n",
      "Currently processing column:  canal_entrada\n",
      "Currently processing column:  indfall\n",
      "Currently processing column:  tipodom\n",
      "Currently processing column:  cod_prov\n",
      "Currently processing column:  nomprov\n",
      "Currently processing column:  ind_actividad_cliente\n",
      "Currently processing column:  renta\n",
      "Currently processing column:  segmento\n",
      "\n",
      "DUMB SECTION\n",
      "\n",
      "Currently processing column:  fecha_dato\n",
      "Currently processing column:  ncodpers\n",
      "Currently processing column:  ind_empleado\n",
      "Currently processing column:  pais_residencia\n",
      "Currently processing column:  sexo\n",
      "Currently processing column:  age\n",
      "Currently processing column:  fecha_alta\n",
      "Currently processing column:  ind_nuevo\n",
      "Currently processing column:  antiguedad\n",
      "Currently processing column:  indrel\n",
      "Currently processing column:  ult_fec_cli_1t\n",
      "Currently processing column:  indrel_1mes\n",
      "Currently processing column:  tiprel_1mes\n",
      "Currently processing column:  indresi\n",
      "Currently processing column:  indext\n",
      "Currently processing column:  conyuemp\n",
      "Currently processing column:  canal_entrada\n",
      "Currently processing column:  indfall\n",
      "Currently processing column:  tipodom\n",
      "Currently processing column:  cod_prov\n",
      "Currently processing column:  nomprov\n",
      "Currently processing column:  ind_actividad_cliente\n",
      "Currently processing column:  renta\n",
      "Currently processing column:  segmento\n",
      "\n",
      "SUMMARY SECTION\n",
      "\n",
      "Approx. time for not dumb method:  63.32541275024414\n",
      "Approx. time for dumb method:  5552096.313620662\n",
      "Time ratio:  87675.64351326328\n"
     ]
    },
    {
     "data": {
      "image/png": "[encoded data removed]",
      "text/plain": [
       "<Figure size 432x288 with 1 Axes>"
      ]
     },
     "metadata": {
      "needs_background": "light"
     },
     "output_type": "display_data"
    }
   ],
   "source": [
    "perform_everything(data_location='data/test_ver2.csv')"
   ]
  },
  {
   "cell_type": "markdown",
   "metadata": {},
   "source": [
    "# Mortgage data (hmda_lar.csv)"
   ]
  },
  {
   "cell_type": "code",
   "execution_count": 462,
   "metadata": {},
   "outputs": [
    {
     "name": "stdout",
     "output_type": "stream",
     "text": [
      "\n",
      "NOT DUMB SECTION\n",
      "\n",
      "Currently processing column:  Unnamed: 0\n",
      "Currently processing column:  tract_to_msamd_income\n",
      "Currently processing column:  rate_spread\n",
      "Currently processing column:  population\n",
      "Currently processing column:  minority_population\n",
      "Currently processing column:  number_of_owner_occupied_units\n",
      "Currently processing column:  number_of_1_to_4_family_units\n",
      "Currently processing column:  loan_amount_000s\n",
      "Currently processing column:  hud_median_family_income\n",
      "Currently processing column:  applicant_income_000s\n",
      "Currently processing column:  state_name\n",
      "Currently processing column:  state_abbr\n",
      "Currently processing column:  respondent_id\n",
      "Currently processing column:  purchaser_type_name\n",
      "Currently processing column:  property_type_name\n",
      "Currently processing column:  preapproval_name\n",
      "Currently processing column:  owner_occupancy_name\n",
      "Currently processing column:  msamd_name\n",
      "Currently processing column:  loan_type_name\n",
      "Currently processing column:  loan_purpose_name\n",
      "Currently processing column:  lien_status_name\n",
      "Currently processing column:  hoepa_status_name\n",
      "Currently processing column:  county_name\n",
      "Currently processing column:  co_applicant_sex_name\n",
      "Currently processing column:  co_applicant_race_name_1\n",
      "Currently processing column:  co_applicant_ethnicity_name\n",
      "Currently processing column:  census_tract_number\n",
      "Currently processing column:  as_of_year\n",
      "Currently processing column:  applicant_sex_name\n",
      "Currently processing column:  applicant_ethnicity_name\n",
      "Currently processing column:  agency_name\n",
      "Currently processing column:  agency_abbr\n",
      "Currently processing column:  action_taken_name\n",
      "\n",
      "DUMB SECTION\n",
      "\n",
      "Currently processing column:  Unnamed: 0\n",
      "Currently processing column:  tract_to_msamd_income\n",
      "Currently processing column:  rate_spread\n",
      "Currently processing column:  population\n",
      "Currently processing column:  minority_population\n",
      "Currently processing column:  number_of_owner_occupied_units\n",
      "Currently processing column:  number_of_1_to_4_family_units\n",
      "Currently processing column:  loan_amount_000s\n",
      "Currently processing column:  hud_median_family_income\n",
      "Currently processing column:  applicant_income_000s\n",
      "Currently processing column:  state_name\n",
      "Currently processing column:  state_abbr\n",
      "Currently processing column:  respondent_id\n",
      "Currently processing column:  purchaser_type_name\n",
      "Currently processing column:  property_type_name\n",
      "Currently processing column:  preapproval_name\n",
      "Currently processing column:  owner_occupancy_name\n",
      "Currently processing column:  msamd_name\n",
      "Currently processing column:  loan_type_name\n",
      "Currently processing column:  loan_purpose_name\n",
      "Currently processing column:  lien_status_name\n",
      "Currently processing column:  hoepa_status_name\n",
      "Currently processing column:  county_name\n",
      "Currently processing column:  co_applicant_sex_name\n",
      "Currently processing column:  co_applicant_race_name_1\n",
      "Currently processing column:  co_applicant_ethnicity_name\n",
      "Currently processing column:  census_tract_number\n",
      "Currently processing column:  as_of_year\n",
      "Currently processing column:  applicant_sex_name\n",
      "Currently processing column:  applicant_ethnicity_name\n",
      "Currently processing column:  agency_name\n",
      "Currently processing column:  agency_abbr\n",
      "Currently processing column:  action_taken_name\n",
      "\n",
      "SUMMARY SECTION\n",
      "\n",
      "Approx. time for not dumb method:  96.00895261764526\n",
      "Approx. time for dumb method:  170285.5451737833\n",
      "Time ratio:  1773.642358665695\n"
     ]
    },
    {
     "data": {
      "image/png": "[encoded data removed]",
      "text/plain": [
       "<Figure size 432x288 with 1 Axes>"
      ]
     },
     "metadata": {
      "needs_background": "light"
     },
     "output_type": "display_data"
    }
   ],
   "source": [
    "perform_everything(data_location='data/cleaned_mortgage.csv')"
   ]
  },
  {
   "cell_type": "markdown",
   "metadata": {},
   "source": [
    "# Debugging"
   ]
  },
  {
   "cell_type": "code",
   "execution_count": 287,
   "metadata": {},
   "outputs": [
    {
     "data": {
      "text/html": [
       "<div>\n",
       "<style scoped>\n",
       "    .dataframe tbody tr th:only-of-type {\n",
       "        vertical-align: middle;\n",
       "    }\n",
       "\n",
       "    .dataframe tbody tr th {\n",
       "        vertical-align: top;\n",
       "    }\n",
       "\n",
       "    .dataframe thead th {\n",
       "        text-align: right;\n",
       "    }\n",
       "</style>\n",
       "<table border=\"1\" class=\"dataframe\">\n",
       "  <thead>\n",
       "    <tr style=\"text-align: right;\">\n",
       "      <th></th>\n",
       "      <th>col1</th>\n",
       "      <th>Marital Status</th>\n",
       "    </tr>\n",
       "  </thead>\n",
       "  <tbody>\n",
       "    <tr>\n",
       "      <th>0</th>\n",
       "      <td>97</td>\n",
       "      <td>single</td>\n",
       "    </tr>\n",
       "    <tr>\n",
       "      <th>1</th>\n",
       "      <td>28</td>\n",
       "      <td>married</td>\n",
       "    </tr>\n",
       "    <tr>\n",
       "      <th>2</th>\n",
       "      <td>119</td>\n",
       "      <td>single</td>\n",
       "    </tr>\n",
       "    <tr>\n",
       "      <th>3</th>\n",
       "      <td>43</td>\n",
       "      <td>married</td>\n",
       "    </tr>\n",
       "    <tr>\n",
       "      <th>4</th>\n",
       "      <td>105</td>\n",
       "      <td>single</td>\n",
       "    </tr>\n",
       "    <tr>\n",
       "      <th>5</th>\n",
       "      <td>57</td>\n",
       "      <td>married</td>\n",
       "    </tr>\n",
       "    <tr>\n",
       "      <th>6</th>\n",
       "      <td>4</td>\n",
       "      <td>single</td>\n",
       "    </tr>\n",
       "    <tr>\n",
       "      <th>7</th>\n",
       "      <td>38</td>\n",
       "      <td>married</td>\n",
       "    </tr>\n",
       "    <tr>\n",
       "      <th>8</th>\n",
       "      <td>52</td>\n",
       "      <td>single</td>\n",
       "    </tr>\n",
       "    <tr>\n",
       "      <th>9</th>\n",
       "      <td>45</td>\n",
       "      <td>married</td>\n",
       "    </tr>\n",
       "    <tr>\n",
       "      <th>10</th>\n",
       "      <td>69</td>\n",
       "      <td>single</td>\n",
       "    </tr>\n",
       "    <tr>\n",
       "      <th>11</th>\n",
       "      <td>70</td>\n",
       "      <td>married</td>\n",
       "    </tr>\n",
       "    <tr>\n",
       "      <th>12</th>\n",
       "      <td>49</td>\n",
       "      <td>single</td>\n",
       "    </tr>\n",
       "    <tr>\n",
       "      <th>13</th>\n",
       "      <td>95</td>\n",
       "      <td>married</td>\n",
       "    </tr>\n",
       "    <tr>\n",
       "      <th>14</th>\n",
       "      <td>119</td>\n",
       "      <td>single</td>\n",
       "    </tr>\n",
       "    <tr>\n",
       "      <th>15</th>\n",
       "      <td>84</td>\n",
       "      <td>married</td>\n",
       "    </tr>\n",
       "    <tr>\n",
       "      <th>16</th>\n",
       "      <td>98</td>\n",
       "      <td>single</td>\n",
       "    </tr>\n",
       "    <tr>\n",
       "      <th>17</th>\n",
       "      <td>116</td>\n",
       "      <td>married</td>\n",
       "    </tr>\n",
       "    <tr>\n",
       "      <th>18</th>\n",
       "      <td>72</td>\n",
       "      <td>single</td>\n",
       "    </tr>\n",
       "    <tr>\n",
       "      <th>19</th>\n",
       "      <td>112</td>\n",
       "      <td>married</td>\n",
       "    </tr>\n",
       "  </tbody>\n",
       "</table>\n",
       "</div>"
      ],
      "text/plain": [
       "    col1 Marital Status\n",
       "0     97         single\n",
       "1     28        married\n",
       "2    119         single\n",
       "3     43        married\n",
       "4    105         single\n",
       "5     57        married\n",
       "6      4         single\n",
       "7     38        married\n",
       "8     52         single\n",
       "9     45        married\n",
       "10    69         single\n",
       "11    70        married\n",
       "12    49         single\n",
       "13    95        married\n",
       "14   119         single\n",
       "15    84        married\n",
       "16    98         single\n",
       "17   116        married\n",
       "18    72         single\n",
       "19   112        married"
      ]
     },
     "execution_count": 287,
     "metadata": {},
     "output_type": "execute_result"
    }
   ],
   "source": [
    "df = pd.DataFrame({'col1' : np.random.randint(0, 120, 20), 'Marital Status' : ['single', 'married']*10})\n",
    "df"
   ]
  },
  {
   "cell_type": "code",
   "execution_count": 336,
   "metadata": {},
   "outputs": [],
   "source": [
    "df['col_noise'] = df['col1']"
   ]
  },
  {
   "cell_type": "code",
   "execution_count": 362,
   "metadata": {},
   "outputs": [],
   "source": [
    "df.loc[range(1,14), 'col_noise'] = 'QWERTY'"
   ]
  },
  {
   "cell_type": "code",
   "execution_count": 363,
   "metadata": {},
   "outputs": [
    {
     "data": {
      "text/html": [
       "<div>\n",
       "<style scoped>\n",
       "    .dataframe tbody tr th:only-of-type {\n",
       "        vertical-align: middle;\n",
       "    }\n",
       "\n",
       "    .dataframe tbody tr th {\n",
       "        vertical-align: top;\n",
       "    }\n",
       "\n",
       "    .dataframe thead th {\n",
       "        text-align: right;\n",
       "    }\n",
       "</style>\n",
       "<table border=\"1\" class=\"dataframe\">\n",
       "  <thead>\n",
       "    <tr style=\"text-align: right;\">\n",
       "      <th></th>\n",
       "      <th>col1</th>\n",
       "      <th>Marital Status</th>\n",
       "      <th>col_noise</th>\n",
       "    </tr>\n",
       "  </thead>\n",
       "  <tbody>\n",
       "    <tr>\n",
       "      <th>0</th>\n",
       "      <td>97</td>\n",
       "      <td>single</td>\n",
       "      <td>97</td>\n",
       "    </tr>\n",
       "    <tr>\n",
       "      <th>1</th>\n",
       "      <td>28</td>\n",
       "      <td>married</td>\n",
       "      <td>QWERTY</td>\n",
       "    </tr>\n",
       "    <tr>\n",
       "      <th>2</th>\n",
       "      <td>119</td>\n",
       "      <td>single</td>\n",
       "      <td>QWERTY</td>\n",
       "    </tr>\n",
       "    <tr>\n",
       "      <th>3</th>\n",
       "      <td>43</td>\n",
       "      <td>married</td>\n",
       "      <td>QWERTY</td>\n",
       "    </tr>\n",
       "    <tr>\n",
       "      <th>4</th>\n",
       "      <td>105</td>\n",
       "      <td>single</td>\n",
       "      <td>QWERTY</td>\n",
       "    </tr>\n",
       "    <tr>\n",
       "      <th>5</th>\n",
       "      <td>57</td>\n",
       "      <td>married</td>\n",
       "      <td>QWERTY</td>\n",
       "    </tr>\n",
       "    <tr>\n",
       "      <th>6</th>\n",
       "      <td>4</td>\n",
       "      <td>single</td>\n",
       "      <td>QWERTY</td>\n",
       "    </tr>\n",
       "    <tr>\n",
       "      <th>7</th>\n",
       "      <td>38</td>\n",
       "      <td>married</td>\n",
       "      <td>QWERTY</td>\n",
       "    </tr>\n",
       "    <tr>\n",
       "      <th>8</th>\n",
       "      <td>52</td>\n",
       "      <td>single</td>\n",
       "      <td>QWERTY</td>\n",
       "    </tr>\n",
       "    <tr>\n",
       "      <th>9</th>\n",
       "      <td>45</td>\n",
       "      <td>married</td>\n",
       "      <td>QWERTY</td>\n",
       "    </tr>\n",
       "    <tr>\n",
       "      <th>10</th>\n",
       "      <td>69</td>\n",
       "      <td>single</td>\n",
       "      <td>QWERTY</td>\n",
       "    </tr>\n",
       "    <tr>\n",
       "      <th>11</th>\n",
       "      <td>70</td>\n",
       "      <td>married</td>\n",
       "      <td>QWERTY</td>\n",
       "    </tr>\n",
       "    <tr>\n",
       "      <th>12</th>\n",
       "      <td>49</td>\n",
       "      <td>single</td>\n",
       "      <td>QWERTY</td>\n",
       "    </tr>\n",
       "    <tr>\n",
       "      <th>13</th>\n",
       "      <td>95</td>\n",
       "      <td>married</td>\n",
       "      <td>QWERTY</td>\n",
       "    </tr>\n",
       "    <tr>\n",
       "      <th>14</th>\n",
       "      <td>119</td>\n",
       "      <td>single</td>\n",
       "      <td>119</td>\n",
       "    </tr>\n",
       "    <tr>\n",
       "      <th>15</th>\n",
       "      <td>84</td>\n",
       "      <td>married</td>\n",
       "      <td>84</td>\n",
       "    </tr>\n",
       "    <tr>\n",
       "      <th>16</th>\n",
       "      <td>98</td>\n",
       "      <td>single</td>\n",
       "      <td>98</td>\n",
       "    </tr>\n",
       "    <tr>\n",
       "      <th>17</th>\n",
       "      <td>116</td>\n",
       "      <td>married</td>\n",
       "      <td>116</td>\n",
       "    </tr>\n",
       "    <tr>\n",
       "      <th>18</th>\n",
       "      <td>72</td>\n",
       "      <td>single</td>\n",
       "      <td>72</td>\n",
       "    </tr>\n",
       "    <tr>\n",
       "      <th>19</th>\n",
       "      <td>112</td>\n",
       "      <td>married</td>\n",
       "      <td>112</td>\n",
       "    </tr>\n",
       "  </tbody>\n",
       "</table>\n",
       "</div>"
      ],
      "text/plain": [
       "    col1 Marital Status col_noise\n",
       "0     97         single        97\n",
       "1     28        married    QWERTY\n",
       "2    119         single    QWERTY\n",
       "3     43        married    QWERTY\n",
       "4    105         single    QWERTY\n",
       "5     57        married    QWERTY\n",
       "6      4         single    QWERTY\n",
       "7     38        married    QWERTY\n",
       "8     52         single    QWERTY\n",
       "9     45        married    QWERTY\n",
       "10    69         single    QWERTY\n",
       "11    70        married    QWERTY\n",
       "12    49         single    QWERTY\n",
       "13    95        married    QWERTY\n",
       "14   119         single       119\n",
       "15    84        married        84\n",
       "16    98         single        98\n",
       "17   116        married       116\n",
       "18    72         single        72\n",
       "19   112        married       112"
      ]
     },
     "execution_count": 363,
     "metadata": {},
     "output_type": "execute_result"
    }
   ],
   "source": [
    "df"
   ]
  },
  {
   "cell_type": "code",
   "execution_count": null,
   "metadata": {},
   "outputs": [],
   "source": [
    "# Measure time on 100 rows and then extrapolate to 15 (or 1) millions"
   ]
  },
  {
   "cell_type": "code",
   "execution_count": 409,
   "metadata": {},
   "outputs": [
    {
     "name": "stdout",
     "output_type": "stream",
     "text": [
      "IP\n",
      "ADDRESS\n",
      "SSN\n",
      "MARITAL\n",
      "NOT DETECTED\n",
      "AGE\n",
      "NOT DETECTED\n",
      "RACE\n"
     ]
    }
   ],
   "source": [
    "for s in ['111.44.1.255', 'george washington street', '111-22-3333', 'single', 'qwerty', '45', '999', 'Asian']:\n",
    "    print(classify(s))"
   ]
  },
  {
   "cell_type": "code",
   "execution_count": null,
   "metadata": {},
   "outputs": [],
   "source": []
  }
 ],
 "metadata": {
  "kernelspec": {
   "display_name": "Python 3",
   "language": "python",
   "name": "python3"
  },
  "language_info": {
   "codemirror_mode": {
    "name": "ipython",
    "version": 3
   },
   "file_extension": ".py",
   "mimetype": "text/x-python",
   "name": "python",
   "nbconvert_exporter": "python",
   "pygments_lexer": "ipython3",
   "version": "3.6.8"
  }
 },
 "nbformat": 4,
 "nbformat_minor": 2
}
