{
 "cells": [
  {
   "cell_type": "code",
   "execution_count": 1,
   "metadata": {},
   "outputs": [],
   "source": [
    "from tdda import rexpy\n",
    "import helpers\n",
    "import regex\n",
    "import re\n",
    "import pandas as pd"
   ]
  },
  {
   "cell_type": "markdown",
   "metadata": {},
   "source": [
    "# Demo"
   ]
  },
  {
   "cell_type": "code",
   "execution_count": 2,
   "metadata": {},
   "outputs": [
    {
     "data": {
      "text/plain": [
       "{'label_1': '^\\\\d{1,3}\\\\-[A-Z]{2}\\\\-\\\\d{3}$',\n",
       " 'label_2': '^\\\\d{1,3}\\\\-[A-Z]{2}$'}"
      ]
     },
     "execution_count": 2,
     "metadata": {},
     "output_type": "execute_result"
    }
   ],
   "source": [
    "d = {'label_1' : '^\\d{1,3}\\-[A-Z]{2}\\-\\d{3}$',\n",
    "     'label_2' : '^\\d{1,3}\\-[A-Z]{2}$'}\n",
    "d"
   ]
  },
  {
   "cell_type": "code",
   "execution_count": 3,
   "metadata": {},
   "outputs": [
    {
     "name": "stdout",
     "output_type": "stream",
     "text": [
      "Regex:  label_1 ; Accuracy:  0.0\n",
      "Regex:  label_2 ; Accuracy:  0.0\n",
      "\n",
      "Output dict:  {'label_1': '^\\\\d{1,3}\\\\-[A-Z]{2}\\\\-\\\\d{3}$', 'label_2': '^\\\\d{1,3}\\\\-[A-Z]{2}$', 'new_label_2': '^\\\\d{3}$'}\n",
      "Output label:  new_label_2\n"
     ]
    }
   ],
   "source": [
    "#vals = ['123-AA', '12-DQ', '198-AA', '1-BA']\n",
    "#vals = ['2abc111', '2def111', '2qwe111', '2rty111', '2abc111']\n",
    "vals = ['123', '456', '456']\n",
    "\n",
    "d, lab = regex.analyze_column(values=vals, current_dict=d.copy(), sample_size=8, new_col_name='new_label_2')\n",
    "print('\\nOutput dict: ', d)\n",
    "print('Output label: ', lab)"
   ]
  },
  {
   "cell_type": "code",
   "execution_count": 4,
   "metadata": {},
   "outputs": [
    {
     "data": {
      "text/plain": [
       "{'label_1': '^\\\\d{1,3}\\\\-[A-Z]{2}\\\\-\\\\d{3}$',\n",
       " 'label_2': '^\\\\d{1,3}\\\\-[A-Z]{2}$',\n",
       " 'new_label_2': '^\\\\d{3}$'}"
      ]
     },
     "execution_count": 4,
     "metadata": {},
     "output_type": "execute_result"
    }
   ],
   "source": [
    "d"
   ]
  },
  {
   "cell_type": "markdown",
   "metadata": {},
   "source": [
    "# -------------------------------------------------"
   ]
  },
  {
   "cell_type": "code",
   "execution_count": 8,
   "metadata": {},
   "outputs": [
    {
     "data": {
      "text/html": [
       "<div>\n",
       "<style scoped>\n",
       "    .dataframe tbody tr th:only-of-type {\n",
       "        vertical-align: middle;\n",
       "    }\n",
       "\n",
       "    .dataframe tbody tr th {\n",
       "        vertical-align: top;\n",
       "    }\n",
       "\n",
       "    .dataframe thead th {\n",
       "        text-align: right;\n",
       "    }\n",
       "</style>\n",
       "<table border=\"1\" class=\"dataframe\">\n",
       "  <thead>\n",
       "    <tr style=\"text-align: right;\">\n",
       "      <th></th>\n",
       "      <th>CCID</th>\n",
       "      <th>CURRENT_CIN_ONE</th>\n",
       "      <th>ADMIN_CONTRACT_ID</th>\n",
       "      <th>UPOF_LONG_NME</th>\n",
       "      <th>SSN</th>\n",
       "      <th>P_GIVEN_NAME_ONE</th>\n",
       "      <th>P_LAST_NAME</th>\n",
       "      <th>P_PHYSICAL_ADDR_LINE_ONE</th>\n",
       "      <th>P_PHYSICAL_CITY_NAME</th>\n",
       "      <th>P_PHYSICAL_PROVINCE_STATE_NAME</th>\n",
       "      <th>P_PHYSICAL_POSTAL_CODE</th>\n",
       "    </tr>\n",
       "  </thead>\n",
       "  <tbody>\n",
       "    <tr>\n",
       "      <th>0</th>\n",
       "      <td>9000007856409346</td>\n",
       "      <td>5287571021784858</td>\n",
       "      <td>40036015192</td>\n",
       "      <td>HIGH INTEREST CHECKING</td>\n",
       "      <td>805004325</td>\n",
       "      <td>JANIS</td>\n",
       "      <td>WELLS</td>\n",
       "      <td>142 WINTERSTEIN DR</td>\n",
       "      <td>FOLSOM</td>\n",
       "      <td>CA</td>\n",
       "      <td>956302356.0</td>\n",
       "    </tr>\n",
       "    <tr>\n",
       "      <th>1</th>\n",
       "      <td>9000007787145712</td>\n",
       "      <td>5403850028852515</td>\n",
       "      <td>42019032103</td>\n",
       "      <td>CitiGold Interest Checking</td>\n",
       "      <td>806008628</td>\n",
       "      <td>CHERYL</td>\n",
       "      <td>ISKIN</td>\n",
       "      <td>1763 RED ROCK CT</td>\n",
       "      <td>WESTLAKE VILLAGE</td>\n",
       "      <td>CA</td>\n",
       "      <td>91362.0</td>\n",
       "    </tr>\n",
       "    <tr>\n",
       "      <th>2</th>\n",
       "      <td>9000007826213555</td>\n",
       "      <td>5362256235480091</td>\n",
       "      <td>40011695257</td>\n",
       "      <td>CITICARD DTD SAVINGS</td>\n",
       "      <td>709607</td>\n",
       "      <td>THERSEA</td>\n",
       "      <td>FLICK</td>\n",
       "      <td>4002 ELROVIA AVE</td>\n",
       "      <td>EL MONTE</td>\n",
       "      <td>CA</td>\n",
       "      <td>917312138.0</td>\n",
       "    </tr>\n",
       "    <tr>\n",
       "      <th>3</th>\n",
       "      <td>9000007789022796</td>\n",
       "      <td>5362255572590710</td>\n",
       "      <td>40066787686</td>\n",
       "      <td>4 YEAR CD</td>\n",
       "      <td>920812461</td>\n",
       "      <td>ARTHUR</td>\n",
       "      <td>MATYURIN</td>\n",
       "      <td>25935 ROLLING HILLS RD</td>\n",
       "      <td>TORRANCE</td>\n",
       "      <td>CA</td>\n",
       "      <td>90505.0</td>\n",
       "    </tr>\n",
       "    <tr>\n",
       "      <th>4</th>\n",
       "      <td>9000007854230503</td>\n",
       "      <td>5262194050247538</td>\n",
       "      <td>9936764332</td>\n",
       "      <td>EQUITY SOURCE-RESIDENTIAL</td>\n",
       "      <td>909159250</td>\n",
       "      <td>SIGNE</td>\n",
       "      <td>BAZILE</td>\n",
       "      <td>892 SPRING AVE</td>\n",
       "      <td>UNIONDALE</td>\n",
       "      <td>NY</td>\n",
       "      <td>115533341.0</td>\n",
       "    </tr>\n",
       "  </tbody>\n",
       "</table>\n",
       "</div>"
      ],
      "text/plain": [
       "               CCID   CURRENT_CIN_ONE ADMIN_CONTRACT_ID  \\\n",
       "0  9000007856409346  5287571021784858       40036015192   \n",
       "1  9000007787145712  5403850028852515       42019032103   \n",
       "2  9000007826213555  5362256235480091       40011695257   \n",
       "3  9000007789022796  5362255572590710       40066787686   \n",
       "4  9000007854230503  5262194050247538        9936764332   \n",
       "\n",
       "                UPOF_LONG_NME        SSN P_GIVEN_NAME_ONE P_LAST_NAME  \\\n",
       "0      HIGH INTEREST CHECKING  805004325            JANIS       WELLS   \n",
       "1  CitiGold Interest Checking  806008628           CHERYL       ISKIN   \n",
       "2        CITICARD DTD SAVINGS     709607          THERSEA       FLICK   \n",
       "3                   4 YEAR CD  920812461           ARTHUR    MATYURIN   \n",
       "4   EQUITY SOURCE-RESIDENTIAL  909159250            SIGNE      BAZILE   \n",
       "\n",
       "  P_PHYSICAL_ADDR_LINE_ONE P_PHYSICAL_CITY_NAME  \\\n",
       "0       142 WINTERSTEIN DR               FOLSOM   \n",
       "1         1763 RED ROCK CT     WESTLAKE VILLAGE   \n",
       "2         4002 ELROVIA AVE             EL MONTE   \n",
       "3   25935 ROLLING HILLS RD             TORRANCE   \n",
       "4           892 SPRING AVE            UNIONDALE   \n",
       "\n",
       "  P_PHYSICAL_PROVINCE_STATE_NAME  P_PHYSICAL_POSTAL_CODE  \n",
       "0                             CA             956302356.0  \n",
       "1                             CA                 91362.0  \n",
       "2                             CA             917312138.0  \n",
       "3                             CA                 90505.0  \n",
       "4                             NY             115533341.0  "
      ]
     },
     "execution_count": 8,
     "metadata": {},
     "output_type": "execute_result"
    }
   ],
   "source": [
    "df = pd.read_excel('data/ImportTestData.xlsx')\n",
    "df.head()"
   ]
  },
  {
   "cell_type": "code",
   "execution_count": 6,
   "metadata": {},
   "outputs": [
    {
     "data": {
      "text/plain": [
       "{'label_1': '^\\\\d{1,3}\\\\-[A-Z]{2}\\\\-\\\\d{3}$',\n",
       " 'label_2': '^\\\\d{1,3}\\\\-[A-Z]{2}$'}"
      ]
     },
     "execution_count": 6,
     "metadata": {},
     "output_type": "execute_result"
    }
   ],
   "source": [
    "d = {'label_1' : '^\\d{1,3}\\-[A-Z]{2}\\-\\d{3}$',\n",
    "     'label_2' : '^\\d{1,3}\\-[A-Z]{2}$'}\n",
    "d"
   ]
  },
  {
   "cell_type": "code",
   "execution_count": 42,
   "metadata": {},
   "outputs": [
    {
     "name": "stdout",
     "output_type": "stream",
     "text": [
      "Current column:  CCID\n",
      "Regex:  label_1 ; Accuracy:  0.0\n",
      "Regex:  label_2 ; Accuracy:  0.0\n",
      "Output label:  CCID\n",
      "Output dict:  {'label_1': '^\\\\d{1,3}\\\\-[A-Z]{2}\\\\-\\\\d{3}$', 'label_2': '^\\\\d{1,3}\\\\-[A-Z]{2}$', 'CCID': '^\\\\d{16}$'} \n",
      "\n",
      "Current column:  CURRENT_CIN_ONE\n",
      "Regex:  label_1 ; Accuracy:  0.0\n",
      "Regex:  label_2 ; Accuracy:  0.0\n",
      "Regex:  CCID ; Accuracy:  1.0\n",
      "Output label:  CCID\n",
      "Output dict:  {'label_1': '^\\\\d{1,3}\\\\-[A-Z]{2}\\\\-\\\\d{3}$', 'label_2': '^\\\\d{1,3}\\\\-[A-Z]{2}$', 'CCID': '^\\\\d{16}$'} \n",
      "\n",
      "Current column:  ADMIN_CONTRACT_ID\n",
      "Regex:  label_1 ; Accuracy:  0.0\n",
      "Regex:  label_2 ; Accuracy:  0.0\n",
      "Regex:  CCID ; Accuracy:  0.0\n",
      "Output label:  ADMIN_CONTRACT_ID\n",
      "Output dict:  {'label_1': '^\\\\d{1,3}\\\\-[A-Z]{2}\\\\-\\\\d{3}$', 'label_2': '^\\\\d{1,3}\\\\-[A-Z]{2}$', 'CCID': '^\\\\d{16}$', 'ADMIN_CONTRACT_ID': '^\\\\d{9,11}$'} \n",
      "\n",
      "Current column:  UPOF_LONG_NME\n",
      "Output label:  None\n",
      "Output dict:  {'label_1': '^\\\\d{1,3}\\\\-[A-Z]{2}\\\\-\\\\d{3}$', 'label_2': '^\\\\d{1,3}\\\\-[A-Z]{2}$', 'CCID': '^\\\\d{16}$', 'ADMIN_CONTRACT_ID': '^\\\\d{9,11}$'} \n",
      "\n",
      "Current column:  SSN\n",
      "Regex:  label_1 ; Accuracy:  0.0\n",
      "Regex:  label_2 ; Accuracy:  0.0\n",
      "Regex:  CCID ; Accuracy:  0.0\n",
      "Regex:  ADMIN_CONTRACT_ID ; Accuracy:  0.875\n",
      "Output label:  ADMIN_CONTRACT_ID\n",
      "Output dict:  {'label_1': '^\\\\d{1,3}\\\\-[A-Z]{2}\\\\-\\\\d{3}$', 'label_2': '^\\\\d{1,3}\\\\-[A-Z]{2}$', 'CCID': '^\\\\d{16}$', 'ADMIN_CONTRACT_ID': '^\\\\d{9,11}$'} \n",
      "\n",
      "Current column:  P_GIVEN_NAME_ONE\n",
      "Output label:  None\n",
      "Output dict:  {'label_1': '^\\\\d{1,3}\\\\-[A-Z]{2}\\\\-\\\\d{3}$', 'label_2': '^\\\\d{1,3}\\\\-[A-Z]{2}$', 'CCID': '^\\\\d{16}$', 'ADMIN_CONTRACT_ID': '^\\\\d{9,11}$'} \n",
      "\n",
      "Current column:  P_LAST_NAME\n",
      "Output label:  None\n",
      "Output dict:  {'label_1': '^\\\\d{1,3}\\\\-[A-Z]{2}\\\\-\\\\d{3}$', 'label_2': '^\\\\d{1,3}\\\\-[A-Z]{2}$', 'CCID': '^\\\\d{16}$', 'ADMIN_CONTRACT_ID': '^\\\\d{9,11}$'} \n",
      "\n",
      "Current column:  P_PHYSICAL_ADDR_LINE_ONE\n",
      "Output label:  None\n",
      "Output dict:  {'label_1': '^\\\\d{1,3}\\\\-[A-Z]{2}\\\\-\\\\d{3}$', 'label_2': '^\\\\d{1,3}\\\\-[A-Z]{2}$', 'CCID': '^\\\\d{16}$', 'ADMIN_CONTRACT_ID': '^\\\\d{9,11}$'} \n",
      "\n",
      "Current column:  P_PHYSICAL_CITY_NAME\n",
      "Output label:  None\n",
      "Output dict:  {'label_1': '^\\\\d{1,3}\\\\-[A-Z]{2}\\\\-\\\\d{3}$', 'label_2': '^\\\\d{1,3}\\\\-[A-Z]{2}$', 'CCID': '^\\\\d{16}$', 'ADMIN_CONTRACT_ID': '^\\\\d{9,11}$'} \n",
      "\n",
      "Current column:  P_PHYSICAL_PROVINCE_STATE_NAME\n",
      "Output label:  None\n",
      "Output dict:  {'label_1': '^\\\\d{1,3}\\\\-[A-Z]{2}\\\\-\\\\d{3}$', 'label_2': '^\\\\d{1,3}\\\\-[A-Z]{2}$', 'CCID': '^\\\\d{16}$', 'ADMIN_CONTRACT_ID': '^\\\\d{9,11}$'} \n",
      "\n",
      "Current column:  P_PHYSICAL_POSTAL_CODE\n",
      "Regex:  label_1 ; Accuracy:  0.0\n",
      "Regex:  label_2 ; Accuracy:  0.0\n",
      "Regex:  CCID ; Accuracy:  0.0\n",
      "Regex:  ADMIN_CONTRACT_ID ; Accuracy:  0.0\n",
      "Output label:  P_PHYSICAL_POSTAL_CODE\n",
      "Output dict:  {'label_1': '^\\\\d{1,3}\\\\-[A-Z]{2}\\\\-\\\\d{3}$', 'label_2': '^\\\\d{1,3}\\\\-[A-Z]{2}$', 'CCID': '^\\\\d{16}$', 'ADMIN_CONTRACT_ID': '^\\\\d{9,11}$', 'P_PHYSICAL_POSTAL_CODE': '^\\\\d+\\\\.0$'} \n",
      "\n"
     ]
    }
   ],
   "source": [
    "numerical_cols = []\n",
    "text_cols = []\n",
    "for col_name in df.columns:\n",
    "    print('Current column: ', col_name)\n",
    "    d, lab = regex.analyze_column(values=df[col_name].values.astype(str), \n",
    "                                  current_dict=d.copy(), \n",
    "                                  sample_size=8, \n",
    "                                  new_col_name=col_name)\n",
    "\n",
    "    numerical_cols.append((col_name, lab)) if lab else text_cols.append(col_name)\n",
    "        \n",
    "    print('Output label: ', lab)\n",
    "    print('Output dict: ', d, '\\n')"
   ]
  },
  {
   "cell_type": "code",
   "execution_count": 43,
   "metadata": {},
   "outputs": [
    {
     "data": {
      "text/plain": [
       "{'label_1': '^\\\\d{1,3}\\\\-[A-Z]{2}\\\\-\\\\d{3}$',\n",
       " 'label_2': '^\\\\d{1,3}\\\\-[A-Z]{2}$',\n",
       " 'CCID': '^\\\\d{16}$',\n",
       " 'ADMIN_CONTRACT_ID': '^\\\\d{9,11}$',\n",
       " 'P_PHYSICAL_POSTAL_CODE': '^\\\\d+\\\\.0$'}"
      ]
     },
     "execution_count": 43,
     "metadata": {},
     "output_type": "execute_result"
    }
   ],
   "source": [
    "d"
   ]
  },
  {
   "cell_type": "code",
   "execution_count": 44,
   "metadata": {},
   "outputs": [
    {
     "data": {
      "text/plain": [
       "[('CCID', 'CCID'),\n",
       " ('CURRENT_CIN_ONE', 'CCID'),\n",
       " ('ADMIN_CONTRACT_ID', 'ADMIN_CONTRACT_ID'),\n",
       " ('SSN', 'ADMIN_CONTRACT_ID'),\n",
       " ('P_PHYSICAL_POSTAL_CODE', 'P_PHYSICAL_POSTAL_CODE')]"
      ]
     },
     "execution_count": 44,
     "metadata": {},
     "output_type": "execute_result"
    }
   ],
   "source": [
    "numerical_cols"
   ]
  },
  {
   "cell_type": "code",
   "execution_count": 45,
   "metadata": {},
   "outputs": [
    {
     "data": {
      "text/plain": [
       "['UPOF_LONG_NME',\n",
       " 'P_GIVEN_NAME_ONE',\n",
       " 'P_LAST_NAME',\n",
       " 'P_PHYSICAL_ADDR_LINE_ONE',\n",
       " 'P_PHYSICAL_CITY_NAME',\n",
       " 'P_PHYSICAL_PROVINCE_STATE_NAME']"
      ]
     },
     "execution_count": 45,
     "metadata": {},
     "output_type": "execute_result"
    }
   ],
   "source": [
    "text_cols"
   ]
  },
  {
   "cell_type": "code",
   "execution_count": null,
   "metadata": {},
   "outputs": [],
   "source": []
  }
 ],
 "metadata": {
  "kernelspec": {
   "display_name": "Python 3",
   "language": "python",
   "name": "python3"
  },
  "language_info": {
   "codemirror_mode": {
    "name": "ipython",
    "version": 3
   },
   "file_extension": ".py",
   "mimetype": "text/x-python",
   "name": "python",
   "nbconvert_exporter": "python",
   "pygments_lexer": "ipython3",
   "version": "3.7.3"
  }
 },
 "nbformat": 4,
 "nbformat_minor": 2
}
